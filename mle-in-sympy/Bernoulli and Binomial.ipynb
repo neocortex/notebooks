{
 "metadata": {
  "name": "",
  "signature": "sha256:bbbcf7c04af6f5b87f23889148803f4dc90c062643808659677fd71a4d847cd4"
 },
 "nbformat": 3,
 "nbformat_minor": 0,
 "worksheets": [
  {
   "cells": [
    {
     "cell_type": "markdown",
     "metadata": {},
     "source": [
      "# Maximum Likelihood Estimation in Sympy"
     ]
    },
    {
     "cell_type": "code",
     "collapsed": false,
     "input": [
      "import warnings\n",
      "warnings.filterwarnings('ignore')"
     ],
     "language": "python",
     "metadata": {},
     "outputs": [],
     "prompt_number": 1
    },
    {
     "cell_type": "markdown",
     "metadata": {},
     "source": [
      "### Imports"
     ]
    },
    {
     "cell_type": "code",
     "collapsed": false,
     "input": [
      "%matplotlib inline\n",
      "import numpy as np\n",
      "import pylab as pl\n",
      "from scipy.stats import bernoulli, binom\n",
      "import sympy\n",
      "from sympy import binomial\n",
      "from sympy.abc import n, p, x"
     ],
     "language": "python",
     "metadata": {},
     "outputs": [],
     "prompt_number": 2
    },
    {
     "cell_type": "markdown",
     "metadata": {},
     "source": [
      "## ML for Bernoulli"
     ]
    },
    {
     "cell_type": "markdown",
     "metadata": {},
     "source": [
      "### Generate samples from a Bernoulli distribution (aka coin-flip experiment)"
     ]
    },
    {
     "cell_type": "code",
     "collapsed": false,
     "input": [
      "# This is the value we will try to estimate from the observed data\n",
      "p_true = .5\n",
      "# Define number of samples to draw\n",
      "n_samples = 1000\n",
      "# Generate n_samples from Bernoulli distribution\n",
      "xs = bernoulli(p_true).rvs(n_samples)"
     ],
     "language": "python",
     "metadata": {},
     "outputs": [],
     "prompt_number": 3
    },
    {
     "cell_type": "markdown",
     "metadata": {},
     "source": [
      "### Compute Maximum Likelihood"
     ]
    },
    {
     "cell_type": "code",
     "collapsed": false,
     "input": [
      "# Define symbolic variable p\n",
      "p = sympy.symbols('p', positive=True)\n",
      "# Define the Bernoulli distribution\n",
      "ber = p**x * (1-p)**(1-x)\n",
      "# Apply the log\n",
      "log_ber = sympy.expand_log(sympy.log(ber), force=True)\n",
      "# Sum over all samples (log-likelihood)\n",
      "ll = np.sum([log_ber.subs(x, i) for i in xs]) # Objective function to maximize\n",
      "# Differentiate with respect to p\n",
      "ll_diff = sympy.diff(ll, p)\n",
      "# Solve for p\n",
      "sol = float(sympy.solve(ll_diff, p)[0])"
     ],
     "language": "python",
     "metadata": {},
     "outputs": [],
     "prompt_number": 4
    },
    {
     "cell_type": "code",
     "collapsed": false,
     "input": [
      "print 'Maximum likelihood estimator for p: {}'.format(sol)"
     ],
     "language": "python",
     "metadata": {},
     "outputs": [
      {
       "output_type": "stream",
       "stream": "stdout",
       "text": [
        "Maximum likelihood estimator for p: 0.478\n"
       ]
      }
     ],
     "prompt_number": 5
    },
    {
     "cell_type": "markdown",
     "metadata": {},
     "source": [
      "We can also change the order of ML estimation process."
     ]
    },
    {
     "cell_type": "code",
     "collapsed": false,
     "input": [
      "# Define symbolic variable p\n",
      "p = sympy.symbols('p', positive=True)\n",
      "x = sympy.symbols('x')\n",
      "# Define the Bernoulli distribution\n",
      "ber = p**x * (1-p)**(1-x)\n",
      "# Take the product over all independent samples (likelihood)\n",
      "l = np.prod([ber.subs(x, i) for i in xs])\n",
      "# Apply the log (log-likelihood)\n",
      "ll = sympy.expand_log(sympy.log(l), force=True)\n",
      "# Differentiate with respect to p\n",
      "ll_diff = sympy.diff(ll, p)\n",
      "# Solve for p\n",
      "sol = float(sympy.solve(ll_diff, p)[0])"
     ],
     "language": "python",
     "metadata": {},
     "outputs": [],
     "prompt_number": 6
    },
    {
     "cell_type": "code",
     "collapsed": false,
     "input": [
      "print 'Maximum likelihood estimator for p: {}'.format(sol)"
     ],
     "language": "python",
     "metadata": {},
     "outputs": [
      {
       "output_type": "stream",
       "stream": "stdout",
       "text": [
        "Maximum likelihood estimator for p: 0.478\n"
       ]
      }
     ],
     "prompt_number": 7
    },
    {
     "cell_type": "markdown",
     "metadata": {},
     "source": [
      "### Plot ML function"
     ]
    },
    {
     "cell_type": "code",
     "collapsed": false,
     "input": [
      "x = np.linspace(0, 1, 100)\n",
      "pl.figure(figsize=(8,5))\n",
      "pl.plot(x, map(sympy.lambdify(p, ll, 'numpy'), x), 'k')\n",
      "pl.plot(sol, ll.subs(p, sol), 'o', markersize=12, alpha=.8)\n",
      "pl.plot(p_true, ll.subs(p, p_true), '*r', markersize=15, alpha=.9)\n",
      "pl.xlabel('$p$',fontsize=18)\n",
      "pl.xlim([0, 1])\n",
      "pl.ylabel('Likelihood',fontsize=18)\n",
      "pl.title('Estimate: {} Truth: {}'.format(sol, p_true), fontsize=18)\n",
      "pl.grid('on', 'both')\n",
      "pl.gca().set_axis_bgcolor((.9, .9, .9))"
     ],
     "language": "python",
     "metadata": {},
     "outputs": [
      {
       "metadata": {},
       "output_type": "display_data",
       "png": "[encoded data removed]",
       "text": [
        "<matplotlib.figure.Figure at 0x7f59a447cf50>"
       ]
      }
     ],
     "prompt_number": 8
    },
    {
     "cell_type": "markdown",
     "metadata": {},
     "source": [
      "## ML for Binomial"
     ]
    },
    {
     "cell_type": "markdown",
     "metadata": {},
     "source": [
      "### Draw samples"
     ]
    },
    {
     "cell_type": "code",
     "collapsed": false,
     "input": [
      "# Define n of Binomial distribution\n",
      "n_true = 500\n",
      "# Define p of Binomial distribution (this is the value we want to estimate)\n",
      "p_true = .3\n",
      "# Draw samples\n",
      "xs = [binom(n_true, p_true).rvs() for _ in xrange(100)]"
     ],
     "language": "python",
     "metadata": {},
     "outputs": [],
     "prompt_number": 9
    },
    {
     "cell_type": "markdown",
     "metadata": {},
     "source": [
      "### Compute Maximum Likelihood"
     ]
    },
    {
     "cell_type": "code",
     "collapsed": false,
     "input": [
      "p = sympy.symbols('p', positive=True)\n",
      "x = sympy.symbols('x')"
     ],
     "language": "python",
     "metadata": {},
     "outputs": [],
     "prompt_number": 10
    },
    {
     "cell_type": "code",
     "collapsed": false,
     "input": [
      "# The binomial distribution\n",
      "ber = p**x * (1-p)**(n-x)"
     ],
     "language": "python",
     "metadata": {},
     "outputs": [],
     "prompt_number": 11
    },
    {
     "cell_type": "markdown",
     "metadata": {},
     "source": [
      "The actual binomial distribution looks like this:\n",
      "\n",
      "    `ber = binomial(n, x) * p**x * (1-p)**(n-x)`\n",
      "\n",
      "That is, including `binomial` coefficient. However, using this gives me an error a few steps later when trying to plot its log-likelihood function. Hence, I throw it away. In the end, it doesn't matter, because the binomial coefficient is independent of **p** and thus does not have an influence on the optimization."
     ]
    },
    {
     "cell_type": "code",
     "collapsed": false,
     "input": [
      "# Applying the log\n",
      "log_ber = sympy.expand_log(sympy.log(ber), force=True)\n",
      "# Sum over all samples (log-likelihood)\n",
      "ll = np.sum([log_ber.subs({x: i, n: n_true}) for i in xs]) # Objective function to maximize"
     ],
     "language": "python",
     "metadata": {},
     "outputs": [],
     "prompt_number": 12
    },
    {
     "cell_type": "code",
     "collapsed": false,
     "input": [
      "# Differentiate with respect to p\n",
      "ll_diff = sympy.diff(ll, p)\n",
      "# Solve for p\n",
      "sol = float(sympy.solve(ll_diff, p)[0])"
     ],
     "language": "python",
     "metadata": {},
     "outputs": [],
     "prompt_number": 13
    },
    {
     "cell_type": "markdown",
     "metadata": {},
     "source": [
      "### Plot ML"
     ]
    },
    {
     "cell_type": "code",
     "collapsed": false,
     "input": [
      "x = np.linspace(0, 1, 100)\n",
      "pl.figure(figsize=(8,5))\n",
      "pl.plot(x, map(sympy.lambdify(p, ll, 'numpy'), x), 'k')\n",
      "pl.plot(sol, ll.subs(p, sol), 'o', markersize=12, alpha=.8)\n",
      "pl.plot(p_true, ll.subs(p, p_true), '*r', markersize=15, alpha=.9)\n",
      "pl.xlabel('$p$',fontsize=18)\n",
      "pl.xlim([0, 1])\n",
      "pl.ylabel('Likelihood',fontsize=18)\n",
      "pl.title('Estimate: {:.3} Truth: {}'.format(sol, p_true), fontsize=18)\n",
      "pl.grid('on', 'both')\n",
      "pl.gca().set_axis_bgcolor((.9, .9, .9))"
     ],
     "language": "python",
     "metadata": {},
     "outputs": [
      {
       "metadata": {},
       "output_type": "display_data",
       "png": "[encoded data removed]",
       "text": [
        "<matplotlib.figure.Figure at 0x7f598297aa90>"
       ]
      }
     ],
     "prompt_number": 14
    }
   ],
   "metadata": {}
  }
 ]
}