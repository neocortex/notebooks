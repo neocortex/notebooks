{
 "metadata": {
  "name": "",
  "signature": "sha256:b473a24e7dacb8164fccf9e15d40ef63332eedec4dc2e6e4966b73f33137613d"
 },
 "nbformat": 3,
 "nbformat_minor": 0,
 "worksheets": [
  {
   "cells": [
    {
     "cell_type": "markdown",
     "metadata": {},
     "source": [
      "We might be missing many locations in the area. Hence, I will try the following approach: I will divide the bounding box in multiple smaller areas and search each of those areas separately. Hence, I attempt to gather more locations, as Foursquare limits the maximum number of locations to 50."
     ]
    },
    {
     "cell_type": "code",
     "collapsed": false,
     "input": [
      "import numpy as np\n",
      "\n",
      "south = 52.46\n",
      "west = 13.37\n",
      "north = 52.55\n",
      "east = 13.47\n",
      "\n",
      "step = 50\n",
      "x = np.linspace(south, north, step)\n",
      "y = np.linspace(west, east, step)"
     ],
     "language": "python",
     "metadata": {},
     "outputs": []
    },
    {
     "cell_type": "code",
     "collapsed": false,
     "input": [
      "bboxes = []\n",
      "for i in xrange(step-1):\n",
      "    for j in xrange(step-1):\n",
      "        sw = '{},{}'.format(x[i], y[j])\n",
      "        ne = '{},{}'.format(x[i+1], y[j+1])\n",
      "        bboxes.append({'sw': sw, 'ne': ne})"
     ],
     "language": "python",
     "metadata": {},
     "outputs": []
    },
    {
     "cell_type": "code",
     "collapsed": false,
     "input": [
      "results = []\n",
      "for bbox in bboxes:\n",
      "    results.append(client.venues.search(\n",
      "        params={'ne': bbox['ne'], 'sw': bbox['sw'], 'limit': 50, 'intent': 'browse', 'categoryId': categories}))"
     ],
     "language": "python",
     "metadata": {},
     "outputs": []
    },
    {
     "cell_type": "code",
     "collapsed": false,
     "input": [
      "venues = pd.DataFrame()\n",
      "for res in results:\n",
      "    for v in res['venues']:\n",
      "        if v['id'] not in venues:\n",
      "            venues = venues.append(\n",
      "                pd.DataFrame({\"name\": v[\"name\"], \"users\": v[\"stats\"][\"usersCount\"],\n",
      "                              \"checkins\": v[\"stats\"][\"checkinsCount\"], \"lat\": v[\"location\"][\"lat\"],\n",
      "                              \"lng\": v[\"location\"][\"lng\"]},\n",
      "                              index=[v['id']]))"
     ],
     "language": "python",
     "metadata": {},
     "outputs": []
    },
    {
     "cell_type": "code",
     "collapsed": false,
     "input": [
      "ne = '52.55,13.47'\n",
      "sw = '52.46,13.37'\n",
      "to_crawl = venues.index\n",
      "new_crawl = []\n",
      "links = []\n",
      "done = []\n",
      "depth = 10\n",
      "for i in xrange(depth):\n",
      "    new_crawl = []\n",
      "    print \"Step {} / {}: {} locations and {} links. {} venues to go.\".format(\n",
      "        i+1, depth, len(venues), len(links), len(to_crawl))\n",
      "    for vi in to_crawl:\n",
      "        # Get next locations\n",
      "        next_venues = client.venues.nextvenues(vi)\n",
      "        for nv in next_venues['nextVenues']['items']:\n",
      "            # Check if it is a nightlife spot\n",
      "            cats = [cat['id'] for cat in nv['categories']]\n",
      "            if set(cats).intersection(set(categories.split(','))):\n",
      "                # Check if it is within the bounding box\n",
      "                if ((nv[\"location\"][\"lat\"] > float(sw.split(',')[0])) & (nv[\"location\"][\"lat\"] < float(ne.split(',')[0])) & \n",
      "                    (nv[\"location\"][\"lng\"] > float(sw.split(',')[1])) & (nv[\"location\"][\"lng\"] < float(ne.split(',')[1]))):\n",
      "                    if nv['id'] not in venues:\n",
      "                        # Retrieve the data if not visited before\n",
      "                        venues = venues.append(\n",
      "                            pd.DataFrame({\"name\": nv[\"name\"], \"users\": nv[\"stats\"][\"usersCount\"],\n",
      "                                          \"checkins\": nv[\"stats\"][\"checkinsCount\"], \"lat\": nv[\"location\"][\"lat\"],\n",
      "                                          \"lng\": nv[\"location\"][\"lng\"],\n",
      "                                          'likes': client.venues.likes(nv['id'])['likes']['count']}, index=[nv['id']]))\n",
      "                    if (nv[\"id\"] not in done) & (nv[\"id\"] not in to_crawl) & (nv[\"id\"] not in new_crawl):\n",
      "                        new_crawl.append(nv[\"id\"])\n",
      "                    links.append((vi, nv[\"id\"]))\n",
      "        done.append(vi)\n",
      "    to_crawl = new_crawl"
     ],
     "language": "python",
     "metadata": {},
     "outputs": []
    },
    {
     "cell_type": "code",
     "collapsed": false,
     "input": [
      "venues = venues.reset_index().drop_duplicates(cols='index',take_last=True).set_index('index')\n",
      "venues['likes'] = [client.venues.likes(v)['likes']['count'] for v in venues.index]\n",
      "venues.head()"
     ],
     "language": "python",
     "metadata": {},
     "outputs": []
    },
    {
     "cell_type": "code",
     "collapsed": false,
     "input": [
      "import networkx as nx\n",
      "G = nx.DiGraph()\n",
      "G.add_nodes_from(venues.index)\n",
      "for f,t in links:\n",
      "    G.add_edge(f, t)\n",
      "print nx.info(G)"
     ],
     "language": "python",
     "metadata": {},
     "outputs": []
    },
    {
     "cell_type": "code",
     "collapsed": false,
     "input": [
      "%pylab inline\n",
      "import matplotlib.pyplot as plt\n",
      "def plot_top_locations(venues, column, n=20, ax=None):\n",
      "    venues.sort(column, inplace=True)\n",
      "    venues.set_index('name')[-n:][column].plot(kind='barh', color='r', alpha=0.5, fontsize=15)\n",
      "    ax.set_ylabel('')\n",
      "    ax.set_title('Top {} locations by {}'.format(n, column), fontsize=20);"
     ],
     "language": "python",
     "metadata": {},
     "outputs": []
    },
    {
     "cell_type": "code",
     "collapsed": false,
     "input": [
      "columns_to_plot = ['users', 'checkins', 'betweenness', 'centrality', 'pagerank', 'likes']\n",
      "fig = plt.figure(figsize=(10, 40), dpi=150)\n",
      "for i in xrange(len(columns_to_plot)):\n",
      "    ax = fig.add_subplot(7, 1, i+1)\n",
      "    plot_top_locations(venues, columns_to_plot[i], 20, ax)\n",
      "plt.tight_layout()"
     ],
     "language": "python",
     "metadata": {},
     "outputs": []
    },
    {
     "cell_type": "code",
     "collapsed": false,
     "input": [
      "import wordcloud\n",
      "metric = 'users'\n",
      "word_list = []\n",
      "sorted_venues = venues.sort('users', ascending=False)\n",
      "for v in sorted_venues.index:\n",
      "    word_list.append((venues.ix[v]['name'], venues.ix[v]['users']))\n",
      "\n",
      "elems = wordcloud.fit_words(word_list, width=1200, height=800, margin=5, ranks_only=False, prefer_horiz=0.90)\n",
      "wordcloud.draw(elems, 'wordcloud_{}.png'.format(metric), width=1200, height=800)\n",
      "\n",
      "import Image\n",
      "im = Image.open('wordcloud_{}.png'.format(metric))\n",
      "plt.figure(figsize=(40, 40), dpi=300)\n",
      "plt.imshow(im)\n",
      "plt.axis('off');"
     ],
     "language": "python",
     "metadata": {},
     "outputs": []
    },
    {
     "cell_type": "code",
     "collapsed": false,
     "input": [
      "topvenues = venues.sort('pagerank', ascending=False)[:100]\n",
      "\n",
      "import networkx as nx\n",
      "G = nx.DiGraph()\n",
      "G.add_nodes_from(topvenues.index)\n",
      "for f,t in links:\n",
      "    if f in G.nodes() and t in G.nodes():\n",
      "        G.add_edge(f, t)\n",
      "print nx.info(G)\n",
      "\n",
      "pagerank = nx.pagerank(G)\n",
      "betweenness = nx.betweenness_centrality(G)\n",
      "centrality = nx.degree_centrality(G)\n",
      "topvenues['pagerank'] = pd.Series(pagerank, index=topvenues.index)\n",
      "topvenues['betweenness'] = pd.Series(betweenness, index=topvenues.index)\n",
      "topvenues['centrality'] = pd.Series(centrality, index=topvenues.index)\n",
      "\n",
      "%matplotlib inline\n",
      "import matplotlib.pyplot as plt\n",
      "labels = topvenues[\"name\"].to_dict()\n",
      "fig = plt.figure(figsize=(15, 15), dpi=150)\n",
      "graph_pos = nx.spring_layout(G, k=0.1, iterations=100)\n",
      "nodesize = dict()\n",
      "for k, v in topvenues.pagerank.iteritems():\n",
      "    nodesize[k] = v * 100000\n",
      "for n in G.nodes():\n",
      "    nx.draw_networkx_nodes(G, graph_pos, nodelist=[n], node_size=nodesize[n], alpha=0.5, node_color='green')\n",
      "nx.draw_networkx_edges(G, graph_pos, width=0.8, alpha=0.2, edge_color='blue')\n",
      "nx.draw_networkx_labels(G, graph_pos, labels=labels, font_size=8)\n",
      "plt.axis('off');"
     ],
     "language": "python",
     "metadata": {},
     "outputs": []
    }
   ],
   "metadata": {}
  }
 ]
}