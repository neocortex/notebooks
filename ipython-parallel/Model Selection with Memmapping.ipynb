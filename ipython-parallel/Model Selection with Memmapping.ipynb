{
 "metadata": {
  "name": ""
 },
 "nbformat": 3,
 "nbformat_minor": 0,
 "worksheets": [
  {
   "cells": [
    {
     "cell_type": "markdown",
     "metadata": {},
     "source": [
      "Sharing Read-only Data between Processes on the Same Host with Memmapping\n",
      "-------------------------------------------------------------------------\n",
      "\n",
      "Adapted from Olivier Grisel (https://github.com/ogrisel/parallel_ml_tutorial)."
     ]
    },
    {
     "cell_type": "code",
     "collapsed": false,
     "input": [
      "!ipcluster stop"
     ],
     "language": "python",
     "metadata": {},
     "outputs": []
    },
    {
     "cell_type": "code",
     "collapsed": false,
     "input": [
      "!ipcluster start -n=4 --daemon"
     ],
     "language": "python",
     "metadata": {},
     "outputs": []
    },
    {
     "cell_type": "code",
     "collapsed": false,
     "input": [
      "from IPython.parallel import Client\n",
      "client = Client()\n",
      "len(client)"
     ],
     "language": "python",
     "metadata": {},
     "outputs": []
    },
    {
     "cell_type": "markdown",
     "metadata": {},
     "source": [
      "The numpy package makes it possible to memory map large contiguous chunks of binary files as shared memory for all the Python processes running on a given host:"
     ]
    },
    {
     "cell_type": "code",
     "collapsed": false,
     "input": [
      "%px import numpy as np"
     ],
     "language": "python",
     "metadata": {},
     "outputs": []
    },
    {
     "cell_type": "markdown",
     "metadata": {},
     "source": [
      "Creating a `numpy.memmap` instance with the `w+` mode creates a file on the filesystem and zeros its content. Let's do it from the first engine process or our current IPython cluster:"
     ]
    },
    {
     "cell_type": "code",
     "collapsed": false,
     "input": [
      "%%px --targets=-1\n",
      "\n",
      "mm_w = np.memmap('small.mmap', shape=10, dtype=np.float32, mode='w+')\n",
      "print(mm_w)"
     ],
     "language": "python",
     "metadata": {},
     "outputs": []
    },
    {
     "cell_type": "code",
     "collapsed": false,
     "input": [
      "!ls -lh small.mmap"
     ],
     "language": "python",
     "metadata": {},
     "outputs": []
    },
    {
     "cell_type": "markdown",
     "metadata": {},
     "source": [
      "This binary file can then be mapped as a new numpy array by all the engines having access to the same filesystem. The `mode='r+'` opens this shared memory area in read write mode:"
     ]
    },
    {
     "cell_type": "code",
     "collapsed": false,
     "input": [
      "%%px\n",
      "\n",
      "mm_r = np.memmap('small.mmap', dtype=np.float32, mode='r+')\n",
      "print(mm_r)"
     ],
     "language": "python",
     "metadata": {},
     "outputs": []
    },
    {
     "cell_type": "code",
     "collapsed": false,
     "input": [
      "%%px --targets=-1\n",
      "\n",
      "mm_w[0] = 42\n",
      "print(mm_w)\n",
      "print(mm_r)"
     ],
     "language": "python",
     "metadata": {},
     "outputs": []
    },
    {
     "cell_type": "code",
     "collapsed": false,
     "input": [
      "%px print(mm_r)"
     ],
     "language": "python",
     "metadata": {},
     "outputs": []
    },
    {
     "cell_type": "markdown",
     "metadata": {},
     "source": [
      "Memory mapped arrays created with `mode='r+'` can be modified and the modifications are shared with all the engines:"
     ]
    },
    {
     "cell_type": "code",
     "collapsed": false,
     "input": [
      "%%px --targets=1\n",
      "\n",
      "mm_r[1] = 43"
     ],
     "language": "python",
     "metadata": {},
     "outputs": []
    },
    {
     "cell_type": "code",
     "collapsed": false,
     "input": [
      "%%px\n",
      "print(mm_r)"
     ],
     "language": "python",
     "metadata": {},
     "outputs": []
    },
    {
     "cell_type": "markdown",
     "metadata": {},
     "source": [
      "Memmap arrays generally behave very much like regular in-memory numpy arrays:"
     ]
    },
    {
     "cell_type": "code",
     "collapsed": false,
     "input": [
      "%%px\n",
      "print(\"sum={0:.3}, mean={1:.3}, std={2:.3}\".format(\n",
      "    mm_r.sum(), np.mean(mm_r), np.std(mm_r)))"
     ],
     "language": "python",
     "metadata": {},
     "outputs": []
    },
    {
     "cell_type": "markdown",
     "metadata": {},
     "source": [
      "Before allocating more data in memory on the cluster let us define a couple of utility functions from the previous exercise (and more) to monitor what is used by which engine and what is still free on the cluster as a whole:"
     ]
    },
    {
     "cell_type": "code",
     "collapsed": false,
     "input": [
      "def get_engines_memory(client):\n",
      "    \"\"\" Gather the memory allocated by each engine in MB. \"\"\"\n",
      "    def memory_mb():\n",
      "        import os\n",
      "        import psutil\n",
      "        return psutil.Process(os.getpid()).get_memory_info().rss / 1e6\n",
      "    \n",
      "    return client[:].apply(memory_mb).get_dict()\n",
      "\n",
      "def get_host_free_memory(client):\n",
      "    \"\"\" Free memory on each host of the cluster in MB. \"\"\"\n",
      "    def hostname():\n",
      "        import socket\n",
      "        return socket.gethostname()\n",
      "    \n",
      "    hostnames = client[:].apply(hostname).get_dict()\n",
      "    one_engine_per_host = dict((hostname, engine_id)\n",
      "                               for engine_id, hostname\n",
      "                               in hostnames.items())\n",
      "\n",
      "    def host_free_memory():\n",
      "        import psutil\n",
      "        return psutil.virtual_memory().free / 1e6\n",
      "        \n",
      "    host_mem = client[one_engine_per_host.values()].apply(\n",
      "        host_free_memory).get_dict()\n",
      "    \n",
      "    return dict((hostnames[eid], m) for eid, m in host_mem.items())"
     ],
     "language": "python",
     "metadata": {},
     "outputs": []
    },
    {
     "cell_type": "code",
     "collapsed": false,
     "input": [
      "get_host_free_memory(client)"
     ],
     "language": "python",
     "metadata": {},
     "outputs": []
    },
    {
     "cell_type": "markdown",
     "metadata": {},
     "source": [
      "Memmaping Nested Numpy-based Data Structures with Joblib\n",
      "--------------------------------------------------------"
     ]
    },
    {
     "cell_type": "markdown",
     "metadata": {},
     "source": [
      "`joblib` is a utility library included in the sklearn package. Among other things it provides tools to serialize objects that comprise large numpy arrays and reload them as memmap backed datastructures.\n",
      "To demonstrate it, let's create an arbitrary python datastructure involving numpy arrays:"
     ]
    },
    {
     "cell_type": "code",
     "collapsed": false,
     "input": [
      "import numpy as np\n",
      "\n",
      "class MyDataStructure(object):\n",
      "    \n",
      "    def __init__(self, shape):\n",
      "        self.float_zeros = np.zeros(shape, dtype=np.float32)\n",
      "        self.integer_ones = np.ones(shape, dtype=np.int64)\n",
      "        \n",
      "data_structure = MyDataStructure((3, 4))\n",
      "data_structure.float_zeros, data_structure.integer_ones"
     ],
     "language": "python",
     "metadata": {},
     "outputs": []
    },
    {
     "cell_type": "markdown",
     "metadata": {},
     "source": [
      "We can now persist this datastructure to disk:"
     ]
    },
    {
     "cell_type": "code",
     "collapsed": false,
     "input": [
      "from sklearn.externals import joblib\n",
      "\n",
      "joblib.dump(data_structure, 'data_structure.pkl')"
     ],
     "language": "python",
     "metadata": {},
     "outputs": []
    },
    {
     "cell_type": "code",
     "collapsed": false,
     "input": [
      "!ls -lh data_structure*"
     ],
     "language": "python",
     "metadata": {},
     "outputs": []
    },
    {
     "cell_type": "markdown",
     "metadata": {},
     "source": [
      "A memmapped copy of this datastructure can then be loaded:"
     ]
    },
    {
     "cell_type": "code",
     "collapsed": false,
     "input": [
      "memmaped_data_structure = joblib.load('data_structure.pkl', mmap_mode='r+')\n",
      "memmaped_data_structure.float_zeros, memmaped_data_structure.integer_ones"
     ],
     "language": "python",
     "metadata": {},
     "outputs": []
    },
    {
     "cell_type": "markdown",
     "metadata": {},
     "source": [
      "Memmaping CV Splits for Multiprocess Dataset Sharing\n",
      "----------------------------------------------------\n"
     ]
    },
    {
     "cell_type": "markdown",
     "metadata": {},
     "source": [
      "We can leverage the previous tools to build a utility function that extracts Cross Validation splits ahead of time to persist them on the hard drive in a format suitable for memmaping by IPython engine processes."
     ]
    },
    {
     "cell_type": "code",
     "collapsed": false,
     "input": [
      "from sklearn.externals import joblib\n",
      "from sklearn.cross_validation import ShuffleSplit\n",
      "import os\n",
      "\n",
      "def persist_cv_splits(X, y, n_cv_iter=10, name='data',\n",
      "    suffix=\"_cv_%03d.pkl\", test_size=0.1, random_state=None):\n",
      "    \"\"\" Materialize randomized train test splits of a dataset. \"\"\"\n",
      "\n",
      "    cv = ShuffleSplit(X.shape[0], n_iter=n_cv_iter,\n",
      "        test_size=test_size, random_state=random_state)\n",
      "    cv_split_filenames = []\n",
      "    \n",
      "    for i, (train, test) in enumerate(cv):\n",
      "        cv_fold = (X[train], y[train], X[test], y[test])\n",
      "        cv_split_filename = name + suffix % i\n",
      "        cv_split_filename = os.path.abspath(cv_split_filename)\n",
      "        joblib.dump(cv_fold, cv_split_filename)\n",
      "        cv_split_filenames.append(cv_split_filename)\n",
      "    \n",
      "    return cv_split_filenames"
     ],
     "language": "python",
     "metadata": {},
     "outputs": []
    },
    {
     "cell_type": "markdown",
     "metadata": {},
     "source": [
      "Let's try it on the digits dataset, we can run this from the :"
     ]
    },
    {
     "cell_type": "code",
     "collapsed": false,
     "input": [
      "from sklearn.datasets import load_digits\n",
      "\n",
      "digits = load_digits()\n",
      "digits_split_filenames = persist_cv_splits(digits.data, digits.target,\n",
      "    name='digits', random_state=42)\n",
      "digits_split_filenames"
     ],
     "language": "python",
     "metadata": {},
     "outputs": []
    },
    {
     "cell_type": "code",
     "collapsed": false,
     "input": [
      "ls -lh digits*"
     ],
     "language": "python",
     "metadata": {},
     "outputs": []
    },
    {
     "cell_type": "markdown",
     "metadata": {},
     "source": [
      "Each of the persisted CV splits can then be loaded back again using memmaping:"
     ]
    },
    {
     "cell_type": "code",
     "collapsed": false,
     "input": [
      "X_train, y_train, X_test, y_test = joblib.load(\n",
      "    'digits_cv_002.pkl',  mmap_mode='r+')"
     ],
     "language": "python",
     "metadata": {},
     "outputs": []
    },
    {
     "cell_type": "markdown",
     "metadata": {},
     "source": [
      "Parallel Model Selection and Grid Search\n",
      "----------------------------------------"
     ]
    },
    {
     "cell_type": "markdown",
     "metadata": {},
     "source": [
      "Let's leverage IPython.parallel and the Memory Mapping features of joblib to write a custom grid search utility that runs on cluster in a memory efficient manner."
     ]
    },
    {
     "cell_type": "code",
     "collapsed": false,
     "input": [
      "import numpy as np\n",
      "from pprint import pprint\n",
      "\n",
      "svc_params = {\n",
      "    'C': np.logspace(-1, 2, 4),\n",
      "    'gamma': np.logspace(-4, 0, 5),\n",
      "}\n",
      "pprint(svc_params)"
     ],
     "language": "python",
     "metadata": {},
     "outputs": []
    },
    {
     "cell_type": "markdown",
     "metadata": {},
     "source": [
      "`GridSearchCV` internally uses the following `ParameterGrid` utility iterator class to build the possible combinations of parameters:"
     ]
    },
    {
     "cell_type": "code",
     "collapsed": false,
     "input": [
      "from sklearn.grid_search import ParameterGrid\n",
      "\n",
      "list(ParameterGrid(svc_params))"
     ],
     "language": "python",
     "metadata": {},
     "outputs": []
    },
    {
     "cell_type": "markdown",
     "metadata": {},
     "source": [
      "Let's write a function to load the data from a CV split file and compute the validation score for a given parameter set and model:"
     ]
    },
    {
     "cell_type": "code",
     "collapsed": false,
     "input": [
      "def compute_evaluation(cv_split_filename, model, params):\n",
      "    \"\"\" Function executed by a worker to evaluate a model on a CV split. \"\"\"\n",
      "    # All module imports should be executed in the worker namespace\n",
      "    from sklearn.externals import joblib\n",
      "\n",
      "    X_train, y_train, X_validation, y_validation = joblib.load(\n",
      "        cv_split_filename, mmap_mode='c')\n",
      "    \n",
      "    model.set_params(**params)\n",
      "    model.fit(X_train, y_train)\n",
      "    validation_score = model.score(X_validation, y_validation)\n",
      "    return validation_score"
     ],
     "language": "python",
     "metadata": {},
     "outputs": []
    },
    {
     "cell_type": "code",
     "collapsed": false,
     "input": [
      "def grid_search(lb_view, model, cv_split_filenames, param_grid):\n",
      "    \"\"\" Launch all grid search evaluation tasks. \"\"\"\n",
      "    all_tasks = []\n",
      "    all_parameters = list(ParameterGrid(param_grid))\n",
      "    \n",
      "    for i, params in enumerate(all_parameters):\n",
      "        task_for_params = []\n",
      "        \n",
      "        for j, cv_split_filename in enumerate(cv_split_filenames):\n",
      "            t = lb_view.apply(\n",
      "                compute_evaluation, cv_split_filename, model, params)\n",
      "            task_for_params.append(t) \n",
      "        \n",
      "        all_tasks.append(task_for_params)\n",
      "        \n",
      "    return all_parameters, all_tasks"
     ],
     "language": "python",
     "metadata": {},
     "outputs": []
    },
    {
     "cell_type": "markdown",
     "metadata": {},
     "source": [
      "Let's try on the digits dataset that we splitted previously as memmapable files:"
     ]
    },
    {
     "cell_type": "code",
     "collapsed": false,
     "input": [
      "from sklearn.svm import SVC\n",
      "from IPython.parallel import Client\n",
      "\n",
      "client = Client()\n",
      "lb_view = client.load_balanced_view()\n",
      "model = SVC()\n",
      "svc_params = {\n",
      "    'C': np.logspace(-1, 2, 4),\n",
      "    'gamma': np.logspace(-4, 0, 5),\n",
      "}\n",
      "\n",
      "all_parameters, all_tasks = grid_search(\n",
      "   lb_view, model, digits_split_filenames, svc_params)"
     ],
     "language": "python",
     "metadata": {},
     "outputs": []
    },
    {
     "cell_type": "markdown",
     "metadata": {},
     "source": [
      "The `grid_search` function is using the asynchronous API of the `LoadBalancedView`, we can hence monitor the progress:"
     ]
    },
    {
     "cell_type": "code",
     "collapsed": false,
     "input": [
      "def progress(tasks):\n",
      "    return np.mean([task.ready() for task_group in tasks\n",
      "                                 for task in task_group])"
     ],
     "language": "python",
     "metadata": {},
     "outputs": []
    },
    {
     "cell_type": "code",
     "collapsed": false,
     "input": [
      "print(\"Tasks completed: {0}%\".format(100 * progress(all_tasks)))"
     ],
     "language": "python",
     "metadata": {},
     "outputs": []
    },
    {
     "cell_type": "code",
     "collapsed": false,
     "input": [
      "def find_bests(all_parameters, all_tasks, n_top=5):\n",
      "    \"\"\"Compute the mean score of the completed tasks\"\"\"\n",
      "    mean_scores = []\n",
      "    \n",
      "    for param, task_group in zip(all_parameters, all_tasks):\n",
      "        scores = [t.get() for t in task_group if t.ready()]\n",
      "        if len(scores) == 0:\n",
      "            continue\n",
      "        mean_scores.append((np.mean(scores), param))\n",
      "                   \n",
      "    return sorted(mean_scores, reverse=True)[:n_top]"
     ],
     "language": "python",
     "metadata": {},
     "outputs": []
    },
    {
     "cell_type": "code",
     "collapsed": false,
     "input": [
      "find_bests(all_parameters, all_tasks)"
     ],
     "language": "python",
     "metadata": {},
     "outputs": []
    },
    {
     "cell_type": "code",
     "collapsed": false,
     "input": [
      "from pprint import pprint\n",
      "\n",
      "print(\"Tasks completed: {0}%\".format(100 * progress(all_tasks)))\n",
      "pprint(find_bests(all_parameters, all_tasks))"
     ],
     "language": "python",
     "metadata": {},
     "outputs": []
    },
    {
     "cell_type": "markdown",
     "metadata": {},
     "source": [
      "A More Complete Parallel Model Selection and Assessment Example\n",
      "---------------------------------------------------------------"
     ]
    },
    {
     "cell_type": "code",
     "collapsed": false,
     "input": [
      "%matplotlib inline\n",
      "import matplotlib.pyplot as plt\n",
      "import numpy as np\n",
      "\n",
      "# Some nice default configuration for plots\n",
      "plt.rcParams['figure.figsize'] = 10, 7.5\n",
      "plt.rcParams['axes.grid'] = True\n",
      "plt.gray()"
     ],
     "language": "python",
     "metadata": {},
     "outputs": []
    },
    {
     "cell_type": "code",
     "collapsed": false,
     "input": [
      "lb_view = client.load_balanced_view()\n",
      "model = SVC()"
     ],
     "language": "python",
     "metadata": {},
     "outputs": []
    },
    {
     "cell_type": "code",
     "collapsed": false,
     "input": [
      "import sys\n",
      "from collections import OrderedDict\n",
      "sys.path.append('..')\n",
      "import model_selection, mmap_utils\n",
      "reload(model_selection), reload(mmap_utils)\n",
      "\n",
      "lb_view.abort()\n",
      "\n",
      "svc_params = OrderedDict([\n",
      "    ('gamma', np.logspace(-4, 0, 5)),\n",
      "    ('C', np.logspace(-1, 2, 4)),\n",
      "])\n",
      "\n",
      "search = model_selection.RandomizedGridSeach(lb_view)\n",
      "search.launch_for_splits(model, svc_params, digits_split_filenames)\n"
     ],
     "language": "python",
     "metadata": {},
     "outputs": []
    },
    {
     "cell_type": "code",
     "collapsed": false,
     "input": [
      "print(search.report())"
     ],
     "language": "python",
     "metadata": {},
     "outputs": []
    }
   ],
   "metadata": {}
  }
 ]
}