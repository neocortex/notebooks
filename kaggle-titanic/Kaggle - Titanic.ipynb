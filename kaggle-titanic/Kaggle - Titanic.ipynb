{
 "metadata": {
  "name": "",
  "signature": "sha256:f2f7549f37e9b1923676e4b24d0f78cb4a438732179167f7807e339fc9fcaf66"
 },
 "nbformat": 3,
 "nbformat_minor": 0,
 "worksheets": [
  {
   "cells": [
    {
     "cell_type": "markdown",
     "metadata": {},
     "source": [
      "Data Preparation\n",
      "----------------"
     ]
    },
    {
     "cell_type": "code",
     "collapsed": false,
     "input": [
      "# This is in order to suppress output of annoying warnings, especially DeprecationWarnings\n",
      "import warnings\n",
      "warnings.filterwarnings('ignore')"
     ],
     "language": "python",
     "metadata": {},
     "outputs": [],
     "prompt_number": 18
    },
    {
     "cell_type": "code",
     "collapsed": false,
     "input": [
      "# Some imports that will be needed along the way\n",
      "import numpy as np\n",
      "import pandas as pd\n",
      "from sklearn.preprocessing import StandardScaler\n",
      "from sklearn.cross_validation import cross_val_score\n",
      "from sklearn.svm import SVC\n",
      "from sklearn.linear_model import LogisticRegression, SGDClassifier\n",
      "from sklearn.decomposition import PCA\n",
      "from sklearn.ensemble import GradientBoostingClassifier, RandomForestClassifier\n",
      "from sklearn.lda import LDA\n",
      "from sklearn.grid_search import GridSearchCV"
     ],
     "language": "python",
     "metadata": {},
     "outputs": [],
     "prompt_number": 19
    },
    {
     "cell_type": "code",
     "collapsed": false,
     "input": [
      "# Load data\n",
      "raw_data = pd.read_csv('train.csv')"
     ],
     "language": "python",
     "metadata": {},
     "outputs": [],
     "prompt_number": 20
    },
    {
     "cell_type": "code",
     "collapsed": false,
     "input": [
      "raw_data.head()"
     ],
     "language": "python",
     "metadata": {},
     "outputs": [
      {
       "html": [
        "<div style=\"max-height:1000px;max-width:1500px;overflow:auto;\">\n",
        "<table border=\"1\" class=\"dataframe\">\n",
        "  <thead>\n",
        "    <tr style=\"text-align: right;\">\n",
        "      <th></th>\n",
        "      <th>PassengerId</th>\n",
        "      <th>Survived</th>\n",
        "      <th>Pclass</th>\n",
        "      <th>Name</th>\n",
        "      <th>Sex</th>\n",
        "      <th>Age</th>\n",
        "      <th>SibSp</th>\n",
        "      <th>Parch</th>\n",
        "      <th>Ticket</th>\n",
        "      <th>Fare</th>\n",
        "      <th>Cabin</th>\n",
        "      <th>Embarked</th>\n",
        "    </tr>\n",
        "  </thead>\n",
        "  <tbody>\n",
        "    <tr>\n",
        "      <th>0</th>\n",
        "      <td> 1</td>\n",
        "      <td> 0</td>\n",
        "      <td> 3</td>\n",
        "      <td>                           Braund, Mr. Owen Harris</td>\n",
        "      <td>   male</td>\n",
        "      <td> 22</td>\n",
        "      <td> 1</td>\n",
        "      <td> 0</td>\n",
        "      <td>        A/5 21171</td>\n",
        "      <td>  7.2500</td>\n",
        "      <td>  NaN</td>\n",
        "      <td> S</td>\n",
        "    </tr>\n",
        "    <tr>\n",
        "      <th>1</th>\n",
        "      <td> 2</td>\n",
        "      <td> 1</td>\n",
        "      <td> 1</td>\n",
        "      <td> Cumings, Mrs. John Bradley (Florence Briggs Th...</td>\n",
        "      <td> female</td>\n",
        "      <td> 38</td>\n",
        "      <td> 1</td>\n",
        "      <td> 0</td>\n",
        "      <td>         PC 17599</td>\n",
        "      <td> 71.2833</td>\n",
        "      <td>  C85</td>\n",
        "      <td> C</td>\n",
        "    </tr>\n",
        "    <tr>\n",
        "      <th>2</th>\n",
        "      <td> 3</td>\n",
        "      <td> 1</td>\n",
        "      <td> 3</td>\n",
        "      <td>                            Heikkinen, Miss. Laina</td>\n",
        "      <td> female</td>\n",
        "      <td> 26</td>\n",
        "      <td> 0</td>\n",
        "      <td> 0</td>\n",
        "      <td> STON/O2. 3101282</td>\n",
        "      <td>  7.9250</td>\n",
        "      <td>  NaN</td>\n",
        "      <td> S</td>\n",
        "    </tr>\n",
        "    <tr>\n",
        "      <th>3</th>\n",
        "      <td> 4</td>\n",
        "      <td> 1</td>\n",
        "      <td> 1</td>\n",
        "      <td>      Futrelle, Mrs. Jacques Heath (Lily May Peel)</td>\n",
        "      <td> female</td>\n",
        "      <td> 35</td>\n",
        "      <td> 1</td>\n",
        "      <td> 0</td>\n",
        "      <td>           113803</td>\n",
        "      <td> 53.1000</td>\n",
        "      <td> C123</td>\n",
        "      <td> S</td>\n",
        "    </tr>\n",
        "    <tr>\n",
        "      <th>4</th>\n",
        "      <td> 5</td>\n",
        "      <td> 0</td>\n",
        "      <td> 3</td>\n",
        "      <td>                          Allen, Mr. William Henry</td>\n",
        "      <td>   male</td>\n",
        "      <td> 35</td>\n",
        "      <td> 0</td>\n",
        "      <td> 0</td>\n",
        "      <td>           373450</td>\n",
        "      <td>  8.0500</td>\n",
        "      <td>  NaN</td>\n",
        "      <td> S</td>\n",
        "    </tr>\n",
        "  </tbody>\n",
        "</table>\n",
        "</div>"
       ],
       "metadata": {},
       "output_type": "pyout",
       "prompt_number": 21,
       "text": [
        "   PassengerId  Survived  Pclass  \\\n",
        "0            1         0       3   \n",
        "1            2         1       1   \n",
        "2            3         1       3   \n",
        "3            4         1       1   \n",
        "4            5         0       3   \n",
        "\n",
        "                                                Name     Sex  Age  SibSp  \\\n",
        "0                            Braund, Mr. Owen Harris    male   22      1   \n",
        "1  Cumings, Mrs. John Bradley (Florence Briggs Th...  female   38      1   \n",
        "2                             Heikkinen, Miss. Laina  female   26      0   \n",
        "3       Futrelle, Mrs. Jacques Heath (Lily May Peel)  female   35      1   \n",
        "4                           Allen, Mr. William Henry    male   35      0   \n",
        "\n",
        "   Parch            Ticket     Fare Cabin Embarked  \n",
        "0      0         A/5 21171   7.2500   NaN        S  \n",
        "1      0          PC 17599  71.2833   C85        C  \n",
        "2      0  STON/O2. 3101282   7.9250   NaN        S  \n",
        "3      0            113803  53.1000  C123        S  \n",
        "4      0            373450   8.0500   NaN        S  "
       ]
      }
     ],
     "prompt_number": 21
    },
    {
     "cell_type": "markdown",
     "metadata": {},
     "source": [
      "Let's drop some columns that don't seem to be useful as features. For instance, passenger ID and names are unique, which means they contain no predictive information. In a later step I plan to include ticket and cabin information, as these are not solely unique."
     ]
    },
    {
     "cell_type": "code",
     "collapsed": false,
     "input": [
      "ids = raw_data.PassengerId.values\n",
      "raw_data = raw_data.drop('PassengerId', axis=1)\n",
      "raw_data = raw_data.drop('Name', axis=1)\n",
      "raw_data = raw_data.drop('Ticket', axis=1)\n",
      "raw_data = raw_data.drop('Cabin', axis=1)"
     ],
     "language": "python",
     "metadata": {},
     "outputs": [],
     "prompt_number": 22
    },
    {
     "cell_type": "code",
     "collapsed": false,
     "input": [
      "# Fill NaNs with means (we could try median here too)\n",
      "means = raw_data.mean(skipna=True)\n",
      "data = raw_data.fillna(means)"
     ],
     "language": "python",
     "metadata": {},
     "outputs": [],
     "prompt_number": 23
    },
    {
     "cell_type": "code",
     "collapsed": false,
     "input": [
      "# Fill NaNs of Embarked with most frequent value. There are only two missing values in the data.\n",
      "data.Embarked = data.Embarked.fillna(data.Embarked.value_counts().index[0])"
     ],
     "language": "python",
     "metadata": {},
     "outputs": [],
     "prompt_number": 24
    },
    {
     "cell_type": "code",
     "collapsed": false,
     "input": [
      "# Replace categorical variable 'Sex' with dummies\n",
      "new_sex_column = pd.get_dummies(data.Sex, prefix='Sex')\n",
      "data = data.drop('Sex', axis=1)\n",
      "data = pd.concat((data, new_sex_column), axis=1)"
     ],
     "language": "python",
     "metadata": {},
     "outputs": [],
     "prompt_number": 25
    },
    {
     "cell_type": "markdown",
     "metadata": {},
     "source": [
      "For the Sex information we can think about dropping one of the columns, because they are redundant, e.g. where male=1, female=0 and vice versa. Not sure how this affects the predictions, but let's keep it in mind.\n",
      "\n",
      "``` data = data.rename(columns={'Sex_male': 'Sex'})\n",
      "data = data.drop('Sex_female', axis=1) ```"
     ]
    },
    {
     "cell_type": "code",
     "collapsed": false,
     "input": [
      "# Replace categorical variable 'Embarked' with dummies\n",
      "new_embarked_column = pd.get_dummies(data.Embarked, prefix='Embarked')\n",
      "data = data.drop('Embarked', axis=1)\n",
      "data = pd.concat((data, new_embarked_column), axis=1)"
     ],
     "language": "python",
     "metadata": {},
     "outputs": [],
     "prompt_number": 26
    },
    {
     "cell_type": "code",
     "collapsed": false,
     "input": [
      "# Extract targets\n",
      "y = data.Survived.values\n",
      "data = data.drop('Survived', axis=1)"
     ],
     "language": "python",
     "metadata": {},
     "outputs": [],
     "prompt_number": 27
    },
    {
     "cell_type": "code",
     "collapsed": false,
     "input": [
      "# Convert to Dataframes to Numpy arrays\n",
      "X = data.as_matrix()"
     ],
     "language": "python",
     "metadata": {},
     "outputs": [],
     "prompt_number": 28
    },
    {
     "cell_type": "markdown",
     "metadata": {},
     "source": [
      "Let's train\n",
      "-----------"
     ]
    },
    {
     "cell_type": "code",
     "collapsed": false,
     "input": [
      "from sklearn.preprocessing import StandardScaler\n",
      "from sklearn.ensemble import ExtraTreesClassifier\n",
      "from sklearn.cross_validation import cross_val_score\n",
      "from sklearn.grid_search import GridSearchCV"
     ],
     "language": "python",
     "metadata": {},
     "outputs": [],
     "prompt_number": 51
    },
    {
     "cell_type": "code",
     "collapsed": false,
     "input": [
      "X[:5,:], data.columns"
     ],
     "language": "python",
     "metadata": {},
     "outputs": [
      {
       "metadata": {},
       "output_type": "pyout",
       "prompt_number": 36,
       "text": [
        "(array([[  3.    ,  22.    ,   1.    ,   0.    ,   7.25  ,   0.    ,\n",
        "           1.    ,   0.    ,   0.    ,   1.    ],\n",
        "        [  1.    ,  38.    ,   1.    ,   0.    ,  71.2833,   1.    ,\n",
        "           0.    ,   1.    ,   0.    ,   0.    ],\n",
        "        [  3.    ,  26.    ,   0.    ,   0.    ,   7.925 ,   1.    ,\n",
        "           0.    ,   0.    ,   0.    ,   1.    ],\n",
        "        [  1.    ,  35.    ,   1.    ,   0.    ,  53.1   ,   1.    ,\n",
        "           0.    ,   0.    ,   0.    ,   1.    ],\n",
        "        [  3.    ,  35.    ,   0.    ,   0.    ,   8.05  ,   0.    ,\n",
        "           1.    ,   0.    ,   0.    ,   1.    ]]),\n",
        " Index([u'Pclass', u'Age', u'SibSp', u'Parch', u'Fare', u'Sex_female', u'Sex_male', u'Embarked_C', u'Embarked_Q', u'Embarked_S'], dtype=object))"
       ]
      }
     ],
     "prompt_number": 36
    },
    {
     "cell_type": "code",
     "collapsed": false,
     "input": [
      "clf = ExtraTreesClassifier(n_estimators=500, max_depth=None, max_features=1.)\n",
      "params = {'min_samples_leaf':[2, 3, 4],\n",
      "          'min_samples_split': [1, 2, 3],\n",
      "          'bootstrap': [True, False],\n",
      "}\n",
      "gs = GridSearchCV(clf, params, cv=5, n_jobs=-1)\n",
      "gs.fit(X, y);"
     ],
     "language": "python",
     "metadata": {},
     "outputs": [],
     "prompt_number": 58
    },
    {
     "cell_type": "code",
     "collapsed": false,
     "input": [
      "gs.best_score_, gs.best_estimator_"
     ],
     "language": "python",
     "metadata": {},
     "outputs": [
      {
       "metadata": {},
       "output_type": "pyout",
       "prompt_number": 59,
       "text": [
        "(0.83164983164983164,\n",
        " ExtraTreesClassifier(bootstrap=False, compute_importances=None,\n",
        "            criterion='gini', max_depth=None, max_features=1.0,\n",
        "            max_leaf_nodes=None, min_density=None, min_samples_leaf=3,\n",
        "            min_samples_split=2, n_estimators=500, n_jobs=1,\n",
        "            oob_score=False, random_state=None, verbose=0))"
       ]
      }
     ],
     "prompt_number": 59
    },
    {
     "cell_type": "markdown",
     "metadata": {},
     "source": [
      "Out first grid search using an ExtraTreesClassifier is not bad:"
     ]
    },
    {
     "cell_type": "code",
     "collapsed": false,
     "input": [
      "best_estimator = ExtraTreesClassifier(bootstrap=False, compute_importances=None, criterion='gini', max_depth=None, max_features=1.0,\n",
      "                                      max_leaf_nodes=None, min_density=None, min_samples_leaf=3, min_samples_split=2,\n",
      "                                      n_estimators=500, n_jobs=1, oob_score=False, random_state=None, verbose=0)\n",
      "best_score = 0.83164983164983164"
     ],
     "language": "python",
     "metadata": {},
     "outputs": [],
     "prompt_number": 61
    },
    {
     "cell_type": "markdown",
     "metadata": {},
     "source": [
      "Let's have a quick look at feature importances:"
     ]
    },
    {
     "cell_type": "code",
     "collapsed": false,
     "input": [
      "fi = gs.best_estimator_.feature_importances_\n",
      "fi = pd.Series(data=fi, index=data.columns)\n",
      "fi.sort(ascending=False)"
     ],
     "language": "python",
     "metadata": {},
     "outputs": [],
     "prompt_number": 69
    },
    {
     "cell_type": "code",
     "collapsed": false,
     "input": [
      "fi"
     ],
     "language": "python",
     "metadata": {},
     "outputs": [
      {
       "metadata": {},
       "output_type": "pyout",
       "prompt_number": 70,
       "text": [
        "Sex_male      0.484450\n",
        "Pclass        0.170236\n",
        "Age           0.121862\n",
        "Fare          0.102356\n",
        "SibSp         0.045171\n",
        "Parch         0.032744\n",
        "Embarked_S    0.028983\n",
        "Embarked_C    0.010679\n",
        "Embarked_Q    0.003518\n",
        "Sex_female    0.000000\n",
        "dtype: float64"
       ]
      }
     ],
     "prompt_number": 70
    },
    {
     "cell_type": "code",
     "collapsed": false,
     "input": [
      "import pylab as pl\n",
      "%matplotlib inline\n",
      "pl.figure(figsize=(10, 6))\n",
      "pl.bar(range(len(fi)), fi.values, color=(.5, .5, .5))\n",
      "pl.xticks(np.arange(len(fi)) + 0.25, fi.index, rotation=90)\n",
      "pl.grid('on', 'both')"
     ],
     "language": "python",
     "metadata": {},
     "outputs": [
      {
       "metadata": {},
       "output_type": "display_data",
       "png": "[encoded data removed]",
       "text": [
        "<matplotlib.figure.Figure at 0x7f5e41438450>"
       ]
      }
     ],
     "prompt_number": 77
    },
    {
     "cell_type": "markdown",
     "metadata": {},
     "source": [
      "We see: The two 'Sex' entries are redundant. We can remove one, let's do that."
     ]
    },
    {
     "cell_type": "code",
     "collapsed": false,
     "input": [
      "data = data.rename(columns={'Sex_male': 'Sex'})\n",
      "data = data.drop('Sex_female', axis=1)\n",
      "X = data.as_matrix()"
     ],
     "language": "python",
     "metadata": {},
     "outputs": [],
     "prompt_number": 78
    },
    {
     "cell_type": "code",
     "collapsed": false,
     "input": [
      "clf = ExtraTreesClassifier(n_estimators=500, max_depth=None, max_features=1.)\n",
      "params = {'min_samples_leaf':[2, 3, 4],\n",
      "          'min_samples_split': [1, 2, 3],\n",
      "          'bootstrap': [True, False],\n",
      "          'criterion': ['gini', 'entropy']\n",
      "}\n",
      "gs = GridSearchCV(clf, params, cv=5, n_jobs=-1)\n",
      "gs.fit(X, y);"
     ],
     "language": "python",
     "metadata": {},
     "outputs": [],
     "prompt_number": 92
    },
    {
     "cell_type": "code",
     "collapsed": false,
     "input": [
      "gs.best_estimator_, gs.best_score_"
     ],
     "language": "python",
     "metadata": {},
     "outputs": [
      {
       "metadata": {},
       "output_type": "pyout",
       "prompt_number": 93,
       "text": [
        "(ExtraTreesClassifier(bootstrap=False, compute_importances=None,\n",
        "            criterion='gini', max_depth=None, max_features=1.0,\n",
        "            max_leaf_nodes=None, min_density=None, min_samples_leaf=3,\n",
        "            min_samples_split=1, n_estimators=500, n_jobs=1,\n",
        "            oob_score=False, random_state=None, verbose=0),\n",
        " 0.83277216610549942)"
       ]
      }
     ],
     "prompt_number": 93
    },
    {
     "cell_type": "code",
     "collapsed": false,
     "input": [
      "best_estimator = (ExtraTreesClassifier(bootstrap=False, compute_importances=None, criterion='gini', max_depth=None,\n",
      "                  max_features=1.0, max_leaf_nodes=None, min_density=None, min_samples_leaf=3, min_samples_split=1,\n",
      "                  n_estimators=500, n_jobs=1, oob_score=False, random_state=None, verbose=0))\n",
      "best_score = 0.83277216610549942"
     ],
     "language": "python",
     "metadata": {},
     "outputs": [],
     "prompt_number": 97
    },
    {
     "cell_type": "markdown",
     "metadata": {},
     "source": [
      "Let's have a look with PCA!"
     ]
    },
    {
     "cell_type": "code",
     "collapsed": false,
     "input": [
      "from sklearn.decomposition import PCA\n",
      "pca = PCA(n_components=2, whiten=True)\n",
      "X_pca = pca.fit_transform(X)\n",
      "pl.figure(figsize=(10, 10))\n",
      "c1 = X_pca[y==0, :]\n",
      "c2 = X_pca[y==1, :]\n",
      "pl.scatter(c1[:, 0], c1[:, 1], color='r')\n",
      "pl.scatter(c2[:, 0], c2[:, 1], color='g', marker='*')\n",
      "pl.grid('on', 'both')"
     ],
     "language": "python",
     "metadata": {},
     "outputs": [
      {
       "metadata": {},
       "output_type": "display_data",
       "png": "[encoded data removed]",
       "text": [
        "<matplotlib.figure.Figure at 0x7f5e3378c210>"
       ]
      }
     ],
     "prompt_number": 105
    },
    {
     "cell_type": "markdown",
     "metadata": {},
     "source": [
      "Wow! Not separable in the first two principal components, I would say."
     ]
    },
    {
     "cell_type": "code",
     "collapsed": false,
     "input": [
      "cov = np.corrcoef(np.transpose(X))"
     ],
     "language": "python",
     "metadata": {},
     "outputs": [],
     "prompt_number": 130
    },
    {
     "cell_type": "code",
     "collapsed": false,
     "input": [
      "pl.figure(figsize=(10, 10))\n",
      "pl.imshow(cov, interpolation='nearest', cmap=pl.cm.spectral)\n",
      "pl.colorbar()\n",
      "pl.xticks(np.arange(cov.shape[0]), data.columns, rotation=45)\n",
      "pl.yticks(np.arange(cov.shape[0]), data.columns);"
     ],
     "language": "python",
     "metadata": {},
     "outputs": [
      {
       "metadata": {},
       "output_type": "display_data",
       "png": "[encoded data removed]",
       "text": [
        "<matplotlib.figure.Figure at 0x7f5e3338dc90>"
       ]
      }
     ],
     "prompt_number": 120
    },
    {
     "cell_type": "code",
     "collapsed": false,
     "input": [
      "from scipy.stats import linregress\n",
      "slope, intercept, r_value, p_value, std_err = linregress(data.Embarked_C, data.Embarked_S)"
     ],
     "language": "python",
     "metadata": {},
     "outputs": [],
     "prompt_number": 125
    },
    {
     "cell_type": "code",
     "collapsed": false,
     "input": [
      "r_value, p_value"
     ],
     "language": "python",
     "metadata": {},
     "outputs": [
      {
       "metadata": {},
       "output_type": "pyout",
       "prompt_number": 129,
       "text": [
        "(0.41483769862015263, 2.2418236681442496e-38)"
       ]
      }
     ],
     "prompt_number": 129
    },
    {
     "cell_type": "code",
     "collapsed": false,
     "input": [
      "slope, intercept, r_value, p_value, std_err = linregress(data.SibSp, data.Parch)\n",
      "r_value, p_value"
     ],
     "language": "python",
     "metadata": {},
     "outputs": [
      {
       "metadata": {},
       "output_type": "pyout",
       "prompt_number": 128,
       "text": [
        "(0.41483769862015263, 2.2418236681442496e-38)"
       ]
      }
     ],
     "prompt_number": 128
    },
    {
     "cell_type": "markdown",
     "metadata": {},
     "source": [
      "There is a high negative correlation between `Embarked_C` and `Embarked_S` (if I embarked in *S* I sure did not embark in *C*, duh!) and a positive correlation between # of siblings (`SibSp`) and # of parents/children (`Parch`)."
     ]
    },
    {
     "cell_type": "code",
     "collapsed": false,
     "input": [],
     "language": "python",
     "metadata": {},
     "outputs": []
    }
   ],
   "metadata": {}
  }
 ]
}